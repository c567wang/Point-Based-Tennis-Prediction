{
 "cells": [
  {
   "cell_type": "markdown",
   "metadata": {},
   "source": [
    "This file is intended to be used to process raw csv's downloaded from https://github.com/JeffSackmann."
   ]
  },
  {
   "cell_type": "code",
   "execution_count": 1,
   "metadata": {},
   "outputs": [],
   "source": [
    "import os\n",
    "import csv\n",
    "from pandas import read_csv"
   ]
  },
  {
   "cell_type": "markdown",
   "metadata": {},
   "source": [
    "### Initialization"
   ]
  },
  {
   "cell_type": "code",
   "execution_count": 2,
   "metadata": {},
   "outputs": [],
   "source": [
    "# information to specify before file use\n",
    "# list of strings so data from multiple years can be combined, ex. of file name: \"atp_matches_2019.csv\"\n",
    "tour = \"atp\"\n",
    "f_name = [tour+\"_matches_2011.csv\",tour+\"_matches_2012.csv\",tour+\"_matches_2013.csv\"]\n",
    "f_id = tour+\"_players.csv\" # under results path below\n",
    "# name of csv file to return results in\n",
    "r_name = \"2011-2013_\"+tour+\"_individual.csv\"\n",
    "# fields to extract\n",
    "f_fields = [\"player_id\",\n",
    "            \"grass_pts_served\",\"grass_service_pts_won\",\"grass_pts_received\",\"grass_receiving_pts_won\",\"grass_aces\",\n",
    "            \"hard_pts_served\",\"hard_service_pts_won\",\"hard_pts_received\",\"hard_receiving_pts_won\",\"hard_aces\",\n",
    "            \"clay_pts_served\",\"clay_service_pts_won\",\"clay_pts_received\",\"clay_receiving_pts_won\",\"clay_aces\",\n",
    "            \"carpet_pts_served\",\"carpet_service_pts_won\",\"carpet_pts_received\",\"carpet_receiving_pts_won\",\"carpet_aces\"]"
   ]
  },
  {
   "cell_type": "code",
   "execution_count": 3,
   "metadata": {},
   "outputs": [],
   "source": [
    "# get paths\n",
    "path = os.getcwd()\n",
    "matches_path = path[:-4]+\"New Data\\\\\"+tour+\"\\\\raw\"\n",
    "results_path = path[:-4]+\"New Data\\\\\"+tour"
   ]
  },
  {
   "cell_type": "code",
   "execution_count": 4,
   "metadata": {},
   "outputs": [],
   "source": [
    "id_path = results_path+\"\\\\\"+f_id\n",
    "ids = read_csv(id_path,usecols=[\"player_id\"])[\"player_id\"].tolist()"
   ]
  },
  {
   "cell_type": "code",
   "execution_count": 5,
   "metadata": {},
   "outputs": [],
   "source": [
    "# use dictionary of dictionaries\n",
    "# keys of 1st dict is player id, keys of 2nd are the fields specified in f_fields\n",
    "ovr_dict = {}\n",
    "for player_id in ids:\n",
    "    player_dict = {}\n",
    "    for field in f_fields:\n",
    "        player_dict[field] = 0\n",
    "    player_dict[\"player_id\"] = player_id\n",
    "    ovr_dict[player_id] = player_dict"
   ]
  },
  {
   "cell_type": "markdown",
   "metadata": {},
   "source": [
    "### Extraction"
   ]
  },
  {
   "cell_type": "code",
   "execution_count": 6,
   "metadata": {},
   "outputs": [],
   "source": [
    "def update_w_stats(match, fields, ovr_dict):\n",
    "    \"\"\"\n",
    "    helper function for extract_stats below\n",
    "    extract stats when id is the winner of the match\n",
    "    \"\"\"\n",
    "    \n",
    "    # indexes of fields needed for statistics\n",
    "    w_id = fields.index(\"winner_id\")\n",
    "    surface = fields.index(\"surface\")\n",
    "    w_ace = fields.index(\"w_ace\")\n",
    "    w_svpt = fields.index(\"w_svpt\")\n",
    "    w_1stWon = fields.index(\"w_1stWon\")\n",
    "    w_2ndWon = fields.index(\"w_2ndWon\")\n",
    "    l_ace = fields.index(\"l_ace\")\n",
    "    l_svpt = fields.index(\"l_svpt\")\n",
    "    l_1stWon = fields.index(\"l_1stWon\")\n",
    "    l_2ndWon = fields.index(\"l_2ndWon\")\n",
    "    \n",
    "    def my_int(val):\n",
    "        \"\"\"\n",
    "        some of these entries will be missing, so if an empty string is encountered,\n",
    "        want it just to be 0\n",
    "        \"\"\"\n",
    "        try:\n",
    "            return(int(val))\n",
    "        except ValueError:\n",
    "            return(0)\n",
    "    \n",
    "    surface_str = match[surface].lower()\n",
    "    key = int(match[w_id])\n",
    "    ovr_dict[key][surface_str+\"_pts_served\"] += my_int(match[w_svpt])\n",
    "    ovr_dict[key][surface_str+\"_service_pts_won\"] += my_int(match[w_1stWon]) + my_int(match[w_2ndWon])\n",
    "    ovr_dict[key][surface_str+\"_pts_received\"] += my_int(match[l_svpt])\n",
    "    ovr_dict[key][surface_str+\"_receiving_pts_won\"] += my_int(match[l_svpt]) - my_int(match[l_1stWon]) - my_int(match[l_2ndWon])\n",
    "    ovr_dict[key][surface_str+\"_aces\"] += my_int(match[w_ace])\n",
    "\n",
    "        \n",
    "def update_l_stats(match, fields, ovr_dict):\n",
    "    \"\"\"\n",
    "    helper function for extract_stats below\n",
    "    extract stats when id is the loser of the match\n",
    "    \"\"\"\n",
    "    \n",
    "    # indexes of fields needed for statistics\n",
    "    l_id = fields.index(\"loser_id\")\n",
    "    surface = fields.index(\"surface\")\n",
    "    w_ace = fields.index(\"w_ace\")\n",
    "    w_svpt = fields.index(\"w_svpt\")\n",
    "    w_1stWon = fields.index(\"w_1stWon\")\n",
    "    w_2ndWon = fields.index(\"w_2ndWon\")\n",
    "    l_ace = fields.index(\"l_ace\")\n",
    "    l_svpt = fields.index(\"l_svpt\")\n",
    "    l_1stWon = fields.index(\"l_1stWon\")\n",
    "    l_2ndWon = fields.index(\"l_2ndWon\")\n",
    "    \n",
    "    def my_int(val):\n",
    "        \"\"\"\n",
    "        some of these entries will be missing, so if an empty string is encountered,\n",
    "        want it just to be 0\n",
    "        \"\"\"\n",
    "        try:\n",
    "            return(int(val))\n",
    "        except ValueError:\n",
    "            return(0)\n",
    "        \n",
    "    surface_str = match[surface].lower()\n",
    "    key = int(match[l_id])\n",
    "    ovr_dict[key][surface_str+\"_pts_served\"] += my_int(match[l_svpt])\n",
    "    ovr_dict[key][surface_str+\"_service_pts_won\"] += my_int(match[l_1stWon]) + my_int(match[l_2ndWon])\n",
    "    ovr_dict[key][surface_str+\"_pts_received\"] += my_int(match[w_svpt])\n",
    "    ovr_dict[key][surface_str+\"_receiving_pts_won\"] += my_int(match[w_svpt]) - my_int(match[w_1stWon]) - my_int(match[w_2ndWon])\n",
    "    ovr_dict[key][surface_str+\"_aces\"] += my_int(match[l_ace])"
   ]
  },
  {
   "cell_type": "code",
   "execution_count": 7,
   "metadata": {},
   "outputs": [],
   "source": [
    "def extract_stats(file, ovr_dict):\n",
    "    \"\"\"\n",
    "    function for getting info from 1 csv file\n",
    "    file: string name of csv file\n",
    "    ovr_dict: the ovr_dict initialized above\n",
    "    \"\"\"\n",
    "    \n",
    "    with open(file, 'r') as f:\n",
    "        csvreader = csv.reader(f)\n",
    "        fields = next(csvreader) # get&burn first row which are the fields\n",
    "        for match in csvreader:\n",
    "            update_w_stats(match,fields,ovr_dict)\n",
    "            update_l_stats(match,fields,ovr_dict)"
   ]
  },
  {
   "cell_type": "code",
   "execution_count": 8,
   "metadata": {},
   "outputs": [],
   "source": [
    "# extract stats into ovr_dict\n",
    "for file in f_name:\n",
    "    f_path = matches_path+\"\\\\\"+file\n",
    "    extract_stats(f_path, ovr_dict)\n",
    "    \n",
    "# write ovr_dict into a single csv for R analysis\n",
    "r_path = results_path+\"\\\\\"+r_name\n",
    "with open(r_path, 'w', newline=\"\") as csvfile:\n",
    "    writer = csv.DictWriter(csvfile, fieldnames=f_fields)\n",
    "    writer.writeheader()\n",
    "    writer.writerows(list(ovr_dict.values()))    "
   ]
  }
 ],
 "metadata": {
  "kernelspec": {
   "display_name": "Python 3",
   "language": "python",
   "name": "python3"
  },
  "language_info": {
   "codemirror_mode": {
    "name": "ipython",
    "version": 3
   },
   "file_extension": ".py",
   "mimetype": "text/x-python",
   "name": "python",
   "nbconvert_exporter": "python",
   "pygments_lexer": "ipython3",
   "version": "3.7.3"
  }
 },
 "nbformat": 4,
 "nbformat_minor": 2
}
