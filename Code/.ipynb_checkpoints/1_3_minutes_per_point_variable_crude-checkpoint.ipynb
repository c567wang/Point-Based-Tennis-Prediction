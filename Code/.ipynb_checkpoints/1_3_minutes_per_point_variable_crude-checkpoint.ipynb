{
 "cells": [
  {
   "cell_type": "code",
   "execution_count": 1,
   "metadata": {},
   "outputs": [],
   "source": [
    "import os\n",
    "import csv"
   ]
  },
  {
   "cell_type": "code",
   "execution_count": 10,
   "metadata": {},
   "outputs": [],
   "source": [
    "total_minutes = 0\n",
    "total_points = 0\n",
    "tour = \"atp\"\n",
    "f_name = [tour+\"_matches_2019.csv\",tour+\"_matches_2020.csv\",tour+\"_matches_2021.csv\"]\n",
    "# get paths\n",
    "path = os.getcwd()\n",
    "matches_path = path[:-4]+\"New Data\\\\\"+tour+\"\\\\raw\"\n",
    "results_path = path[:-4]+\"New Data\\\\\"+tour"
   ]
  },
  {
   "cell_type": "code",
   "execution_count": 11,
   "metadata": {},
   "outputs": [
    {
     "data": {
      "text/plain": [
       "0.68012403387791"
      ]
     },
     "execution_count": 11,
     "metadata": {},
     "output_type": "execute_result"
    }
   ],
   "source": [
    "for file in f_name:\n",
    "    f_path = matches_path+\"\\\\\"+file\n",
    "    with open(f_path, 'r') as f:\n",
    "        csvreader = csv.reader(f)\n",
    "        fields = next(csvreader) # get&burn first row which are the fields\n",
    "        minutes = fields.index(\"minutes\")\n",
    "        w_svpt = fields.index(\"w_svpt\")\n",
    "        l_svpt = fields.index(\"l_svpt\")\n",
    "        score = fields.index(\"score\")\n",
    "        for match in csvreader:\n",
    "            if match[minutes] and match[w_svpt] and match[l_svpt] and 'R' not in match[score]:\n",
    "                total_minutes += int(match[minutes])\n",
    "                total_minutes -= 2*match[score].count(\" \")\n",
    "                total_points += int(match[w_svpt])\n",
    "                total_points += int(match[l_svpt])\n",
    "            \n",
    "total_minutes/total_points"
   ]
  },
  {
   "cell_type": "markdown",
   "metadata": {},
   "source": [
    "ATP 2011-2013: 0.6639854926718287\n",
    "\n",
    "ATP 2015-2017: 0.6478213514371993\n",
    "\n",
    "WTA 2015-2017: 0.6655378576970471\n",
    "\n",
    "ATP 2019-2021: 0.68012403387791\n",
    "\n",
    "WTA 2019-2021: 0.6720986118445195"
   ]
  }
 ],
 "metadata": {
  "kernelspec": {
   "display_name": "Python 3",
   "language": "python",
   "name": "python3"
  },
  "language_info": {
   "codemirror_mode": {
    "name": "ipython",
    "version": 3
   },
   "file_extension": ".py",
   "mimetype": "text/x-python",
   "name": "python",
   "nbconvert_exporter": "python",
   "pygments_lexer": "ipython3",
   "version": "3.7.3"
  }
 },
 "nbformat": 4,
 "nbformat_minor": 2
}
