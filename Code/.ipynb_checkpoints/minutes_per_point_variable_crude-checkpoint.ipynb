{
 "cells": [
  {
   "cell_type": "code",
   "execution_count": 1,
   "metadata": {},
   "outputs": [],
   "source": [
    "import os\n",
    "import csv"
   ]
  },
  {
   "cell_type": "code",
   "execution_count": 2,
   "metadata": {},
   "outputs": [],
   "source": [
    "total_minutes = 0\n",
    "total_points = 0\n",
    "tour = \"atp\"\n",
    "f_name = [tour+\"_matches_2011.csv\",tour+\"_matches_2012.csv\",tour+\"_matches_2013.csv\"]\n",
    "# get paths\n",
    "path = os.getcwd()\n",
    "matches_path = path[:-4]+\"New Data\\\\\"+tour+\"\\\\raw\"\n",
    "results_path = path[:-4]+\"New Data\\\\\"+tour"
   ]
  },
  {
   "cell_type": "code",
   "execution_count": 7,
   "metadata": {},
   "outputs": [
    {
     "name": "stdout",
     "output_type": "stream",
     "text": [
      "\n",
      "a\n"
     ]
    }
   ],
   "source": [
    "for file in f_name:\n",
    "    f_path = matches_path+\"\\\\\"+file\n",
    "    with open(f_path, 'r') as f:\n",
    "        csvreader = csv.reader(f)\n",
    "        fields = next(csvreader) # get&burn first row which are the fields\n",
    "        minutes = fields.index(\"minutes\")\n",
    "        w_svpt = fields.index(\"w_svpt\")\n",
    "        l_svpt = fields.index(\"l_svpt\")\n",
    "        for match in csvreader:\n",
    "            if match[minutes] or match[w_svpt] or match[l_svpt]:\n",
    "                continue\n",
    "            # else\n",
    "            total_minutes += match[minutes]\n",
    "            total_points += match[w_svpt]\n",
    "            total_points += match[l_svpt]\n",
    "total_minutes/total_points"
   ]
  },
  {
   "cell_type": "code",
   "execution_count": null,
   "metadata": {},
   "outputs": [],
   "source": []
  }
 ],
 "metadata": {
  "kernelspec": {
   "display_name": "Python 3",
   "language": "python",
   "name": "python3"
  },
  "language_info": {
   "codemirror_mode": {
    "name": "ipython",
    "version": 3
   },
   "file_extension": ".py",
   "mimetype": "text/x-python",
   "name": "python",
   "nbconvert_exporter": "python",
   "pygments_lexer": "ipython3",
   "version": "3.7.3"
  }
 },
 "nbformat": 4,
 "nbformat_minor": 2
}
