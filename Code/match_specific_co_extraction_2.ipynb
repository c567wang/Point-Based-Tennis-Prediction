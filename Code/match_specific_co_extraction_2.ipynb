{
 "cells": [
  {
   "cell_type": "markdown",
   "metadata": {},
   "source": [
    "In the previous common opponent (co) extraction file, the order of operations was to first obtain a list of common opponents for a match-up between A and B, and then extract surface-specific stats for matches between A/B and their common opponents. This file instead follows more closely the approach originally proposed by Knottenbelt et al.'s in their 2012 paper. Now the surface of the target match-up is introduced earlier when the common opponent list is being compiled, and when stats are being extracted, entries are only used if they fit the surface in question. So the amount of data used is restricted during list compilation and data extraction such that the aggregated data is purely based on the surface. Therefore we should expect results from this file to be of a smaller volume."
   ]
  },
  {
   "cell_type": "markdown",
   "metadata": {},
   "source": [
    "### Initialization"
   ]
  },
  {
   "cell_type": "code",
   "execution_count": 1,
   "metadata": {},
   "outputs": [],
   "source": [
    "# information to specify before running file\n",
    "target_name = \"2014_wta_testing.csv\" # file containing matches the data is to be collected for\n",
    "# list of strings so data from multiple years can be combined, ex. of file name: \"atp_matches_2019.csv\"\n",
    "f_names = [\"wta_matches_2013.csv\"]#,\"wta_matches_2012.csv\",\"wta_matches_2011.csv\"]\n",
    "co_name = \"2013_wta_co2.csv\" # name of file to store extracted co data in\n",
    "# fields to extract, two of the same to account for the 2 players\n",
    "# !NEW! now as surface is distinguished from the beginning, each matchup only needs stats for their\n",
    "# relevant surface\n",
    "f_fields = [\"surface\",\"name1\",\"pts_served1\",\"service_pts_won1\",\"pts_received1\",\n",
    "            \"receiving_pts_won1\",\"aces1\",\"name2\",\"pts_served2\",\"service_pts_won2\",\n",
    "            \"pts_received2\",\"receiving_pts_won2\",\"aces2\",\"sample_size\"]"
   ]
  },
  {
   "cell_type": "code",
   "execution_count": 2,
   "metadata": {},
   "outputs": [],
   "source": [
    "import os\n",
    "import csv"
   ]
  },
  {
   "cell_type": "code",
   "execution_count": 3,
   "metadata": {},
   "outputs": [],
   "source": [
    "# get paths\n",
    "path = os.getcwd() # \"...\\\\Code\" parallel with \"Data Lake\"\n",
    "matches_path = path[:-4]+\"Data Lake\\\\Matches\" # folder containing matches to mine\n",
    "players_path = path[:-4]+\"Data Lake\\\\Players\" # folder to store all extracted stats\n",
    "target_path = path[:-4]+\"Data Lake\\\\Experiments\" # folder containing testing targets\n",
    "t_path = target_path+\"\\\\\"+target_name\n",
    "co_path = players_path+\"\\\\\"+co_name"
   ]
  },
  {
   "cell_type": "code",
   "execution_count": 4,
   "metadata": {},
   "outputs": [],
   "source": [
    "# each match's player stats to be stored in a dict in an overall list\n",
    "# list will be go by order of matches in the target file\n",
    "# !NEW! note this time we have to accomodate for surface\n",
    "ovr_list_co = []\n",
    "\n",
    "# initializing ovr_list with matches from the target csv file\n",
    "with open(t_path, 'r') as t:\n",
    "    \n",
    "    t_csvreader = csv.reader(t)\n",
    "    t_fields = next(t_csvreader) # getting fields to identify name columns\n",
    "    p1_idx = t_fields.index(\"winner_name\")\n",
    "    p2_idx = t_fields.index(\"loser_name\")\n",
    "    s_idx = t_fields.index(\"surface\")\n",
    "    \n",
    "    for t_match in t_csvreader:\n",
    "        p1 = t_match[p1_idx]\n",
    "        p2 = t_match[p2_idx]\n",
    "        surface = t_match[s_idx]\n",
    "        \n",
    "        # initialize the dict\n",
    "        t_dict = {}\n",
    "        for field in f_fields:\n",
    "            t_dict[field] = 0 \n",
    "        t_dict[\"name1\"] = p1\n",
    "        t_dict[\"name2\"] = p2\n",
    "        t_dict[\"surface\"] = surface\n",
    "        \n",
    "        ovr_list_co.append(t_dict)"
   ]
  },
  {
   "cell_type": "code",
   "execution_count": 5,
   "metadata": {},
   "outputs": [],
   "source": [
    "# helper functions\n",
    "def my_int(val):\n",
    "        \"\"\"\n",
    "        some of these entries will be missing, so if an empty string is encountered,\n",
    "        want it just to be 0\n",
    "        \"\"\"\n",
    "        try:\n",
    "            return(int(val))\n",
    "        except ValueError:\n",
    "            return(0)\n",
    "        \n",
    "def update_stats_co(list_idx, match, fields, p1, pw):\n",
    "    \"\"\"\n",
    "    mutates ovr_list_co - updates stats for the list_idx'th entry with data in match\n",
    "    where boolean p1 indicates whether p1 (name1 in the list entry) or p2 is to be updated\n",
    "    and boolean pw indicates whether the player being updated won or lost the match\n",
    "    \"\"\"\n",
    "    \n",
    "    # indexes of fields needed for statistics\n",
    "    w_ace = fields.index(\"w_ace\")\n",
    "    w_svpt = fields.index(\"w_svpt\")\n",
    "    w_1stWon = fields.index(\"w_1stWon\")\n",
    "    w_2ndWon = fields.index(\"w_2ndWon\")\n",
    "    l_ace = fields.index(\"l_ace\")\n",
    "    l_svpt = fields.index(\"l_svpt\")\n",
    "    l_1stWon = fields.index(\"l_1stWon\")\n",
    "    l_2ndWon = fields.index(\"l_2ndWon\")\n",
    "    \n",
    "    if p1:\n",
    "        if pw:\n",
    "            ovr_list_co[list_idx][\"pts_served1\"] += my_int(match[w_svpt])\n",
    "            ovr_list_co[list_idx][\"service_pts_won1\"] += (my_int(match[w_1stWon]) + \n",
    "                                                          my_int(match[w_2ndWon]))\n",
    "            ovr_list_co[list_idx][\"pts_received1\"] += my_int(match[l_svpt])\n",
    "            ovr_list_co[list_idx][\"receiving_pts_won1\"] += (my_int(match[l_svpt]) - \n",
    "                                                            my_int(match[l_1stWon]) - \n",
    "                                                            my_int(match[l_2ndWon]))\n",
    "            ovr_list_co[list_idx][\"aces1\"] += my_int(match[w_ace])\n",
    "        else:\n",
    "            ovr_list_co[list_idx][\"pts_served1\"] += my_int(match[l_svpt])\n",
    "            ovr_list_co[list_idx][\"service_pts_won1\"] += (my_int(match[l_1stWon]) + \n",
    "                                                          my_int(match[l_2ndWon]))\n",
    "            ovr_list_co[list_idx][\"pts_received1\"] += my_int(match[w_svpt])\n",
    "            ovr_list_co[list_idx][\"receiving_pts_won1\"] += (my_int(match[w_svpt]) - \n",
    "                                                            my_int(match[w_1stWon]) - \n",
    "                                                            my_int(match[w_2ndWon]))\n",
    "            ovr_list_co[list_idx][\"aces1\"] += my_int(match[l_ace])\n",
    "    else:\n",
    "        if pw:\n",
    "            ovr_list_co[list_idx][\"pts_served2\"] += my_int(match[w_svpt])\n",
    "            ovr_list_co[list_idx][\"service_pts_won2\"] += (my_int(match[w_1stWon]) + \n",
    "                                                          my_int(match[w_2ndWon]))\n",
    "            ovr_list_co[list_idx][\"pts_received2\"] += my_int(match[l_svpt])\n",
    "            ovr_list_co[list_idx][\"receiving_pts_won2\"] += (my_int(match[l_svpt]) - \n",
    "                                                            my_int(match[l_1stWon]) - \n",
    "                                                            my_int(match[l_2ndWon]))\n",
    "            ovr_list_co[list_idx][\"aces2\"] += my_int(match[w_ace])\n",
    "        else:\n",
    "            ovr_list_co[list_idx][\"pts_served2\"] += my_int(match[l_svpt])\n",
    "            ovr_list_co[list_idx][\"service_pts_won2\"] += (my_int(match[l_1stWon]) + \n",
    "                                                          my_int(match[l_2ndWon]))\n",
    "            ovr_list_co[list_idx][\"pts_received2\"] += my_int(match[w_svpt])\n",
    "            ovr_list_co[list_idx][\"receiving_pts_won2\"] += (my_int(match[w_svpt]) - \n",
    "                                                            my_int(match[w_1stWon]) - \n",
    "                                                            my_int(match[w_2ndWon]))\n",
    "            ovr_list_co[list_idx][\"aces2\"] += my_int(match[l_ace])\n",
    "    ovr_list_co[list_idx][\"sample_size\"] += 1"
   ]
  },
  {
   "cell_type": "code",
   "execution_count": 6,
   "metadata": {},
   "outputs": [],
   "source": [
    "# need to first get a list of common opponents for each matchup\n",
    "# this will be done by getting 2 lists of played opponents \n",
    "# and taking the intersection\n",
    "# for each matchup, corresponding 2 lists to be stored in separate lists\n",
    "# initialize the lists of lists\n",
    "ovr_p1_oppo = []\n",
    "ovr_p2_oppo = []\n",
    "for i in range(len(ovr_list_co)):\n",
    "    p1_oppo = []\n",
    "    p2_oppo = []\n",
    "    ovr_p1_oppo.append(p1_oppo)\n",
    "    ovr_p2_oppo.append(p2_oppo)\n",
    "\n",
    "# go through matches and add opponents\n",
    "for file in f_names:\n",
    "    f_path = matches_path+\"\\\\\"+file\n",
    "    with open(f_path,'r') as f:\n",
    "        csvreader = csv.reader(f)\n",
    "        fields = next(csvreader)\n",
    "        winner_idx = fields.index(\"winner_name\")\n",
    "        loser_idx = fields.index(\"loser_name\")\n",
    "        s_idx = fields.index(\"surface\")\n",
    "        for match in csvreader:\n",
    "            for i in range(len(ovr_list_co)):\n",
    "                if match[s_idx]!=ovr_list_co[i][\"surface\"]:\n",
    "                    continue\n",
    "                if match[winner_idx]==ovr_list_co[i][\"name1\"]:\n",
    "                    ovr_p1_oppo[i].append(match[loser_idx])\n",
    "                elif match[loser_idx]==ovr_list_co[i][\"name1\"]:\n",
    "                    ovr_p1_oppo[i].append(match[winner_idx])\n",
    "                if match[winner_idx]==ovr_list_co[i][\"name2\"]:\n",
    "                    ovr_p2_oppo[i].append(match[loser_idx])\n",
    "                elif match[loser_idx]==ovr_list_co[i][\"name2\"]:\n",
    "                    ovr_p2_oppo[i].append(match[winner_idx])\n",
    "                    \n",
    "# take intersection of each pair of opponent lists for final list of lists\n",
    "ovr_co_oppo = []\n",
    "for i in range(len(ovr_list_co)):\n",
    "    ovr_co_oppo.append(list(set(ovr_p1_oppo[i]).intersection(ovr_p2_oppo[i])))"
   ]
  },
  {
   "cell_type": "code",
   "execution_count": 7,
   "metadata": {},
   "outputs": [
    {
     "name": "stdout",
     "output_type": "stream",
     "text": [
      "Common opponents for Sara Errani and Petra Cetkovska:\n"
     ]
    },
    {
     "data": {
      "text/plain": [
       "['Roberta Vinci']"
      ]
     },
     "execution_count": 7,
     "metadata": {},
     "output_type": "execute_result"
    }
   ],
   "source": [
    "# we can see the lists of common opponents produced, for example:\n",
    "k = 96\n",
    "print(\"Common opponents for \"+ovr_list_co[k][\"name1\"]+\" and \"+ovr_list_co[k][\"name2\"]+\":\")\n",
    "ovr_co_oppo[k]"
   ]
  },
  {
   "cell_type": "code",
   "execution_count": 8,
   "metadata": {},
   "outputs": [],
   "source": [
    "for file in f_names:\n",
    "    f_path = matches_path+\"\\\\\"+file\n",
    "    with open(f_path,'r') as f:\n",
    "        csvreader = csv.reader(f)\n",
    "        fields = next(csvreader)\n",
    "        winner_idx = fields.index(\"winner_name\")\n",
    "        loser_idx = fields.index(\"loser_name\")\n",
    "        s_idx = fields.index(\"surface\")\n",
    "        \n",
    "        for match in csvreader:\n",
    "            for i in range(len(ovr_list_co)):\n",
    "                if match[s_idx]!=ovr_list_co[i][\"surface\"]:\n",
    "                    continue\n",
    "                p1 = ovr_list_co[i][\"name1\"]\n",
    "                p2 = ovr_list_co[i][\"name2\"]\n",
    "                if match[winner_idx]==p1 and match[loser_idx] in ovr_co_oppo[i]:\n",
    "                    update_stats_co(i,match,fields,p1=True,pw=True)\n",
    "                elif match[loser_idx]==p1 and match[winner_idx] in ovr_co_oppo[i]:\n",
    "                    update_stats_co(i,match,fields,p1=True,pw=False)\n",
    "                elif match[winner_idx]==p2 and match[loser_idx] in ovr_co_oppo[i]:\n",
    "                    update_stats_co(i,match,fields,p1=False,pw=True)\n",
    "                elif match[loser_idx]==p2 and match[winner_idx] in ovr_co_oppo[i]:\n",
    "                    update_stats_co(i,match,fields,p1=False,pw=False)"
   ]
  },
  {
   "cell_type": "code",
   "execution_count": 9,
   "metadata": {},
   "outputs": [],
   "source": [
    "# write ovr_dict into a single csv for R analysis\n",
    "with open(co_path, 'w', newline=\"\") as csvfile:\n",
    "    writer = csv.DictWriter(csvfile, fieldnames=f_fields)\n",
    "    writer.writeheader()\n",
    "    writer.writerows(ovr_list_co)"
   ]
  }
 ],
 "metadata": {
  "kernelspec": {
   "display_name": "Python 3",
   "language": "python",
   "name": "python3"
  },
  "language_info": {
   "codemirror_mode": {
    "name": "ipython",
    "version": 3
   },
   "file_extension": ".py",
   "mimetype": "text/x-python",
   "name": "python",
   "nbconvert_exporter": "python",
   "pygments_lexer": "ipython3",
   "version": "3.7.3"
  }
 },
 "nbformat": 4,
 "nbformat_minor": 2
}
