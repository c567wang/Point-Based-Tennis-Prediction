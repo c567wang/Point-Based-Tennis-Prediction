{
 "cells": [
  {
   "cell_type": "markdown",
   "metadata": {},
   "source": [
    "This file is intended to be used to process raw csv's downloaded from https://github.com/JeffSackmann."
   ]
  },
  {
   "cell_type": "markdown",
   "metadata": {},
   "source": [
    "### Initialization"
   ]
  },
  {
   "cell_type": "code",
   "execution_count": 1,
   "metadata": {},
   "outputs": [],
   "source": [
    "# information to specify before file use\n",
    "# list of strings so data from multiple years can be combined, ex. of file name: \"atp_matches_2019.csv\"\n",
    "f_name = [\"wta_matches_2013.csv\",\"wta_matches_2012.csv\",\"wta_matches_2011.csv\"]\n",
    "# name of csv file to return results in\n",
    "r_name = \"2011-2013_wta_individual.csv\"\n",
    "# list of players obtained from quick r code in scrap\n",
    "players = [\"Serena Williams\",\"Samantha Stosur\",\"Roberta Vinci\",\"Svetlana Kuznetsova\",\"Maria Sharapova\",\"Ana Ivanovic\",\"Simona Halep\",\"Petra Kvitova\",\"Caroline Garcia\",\"Agnieszka Radwanska\",\"Na Li\",\"Dominika Cibulkova\",\"Flavia Pennetta\",\"Sloane Stephens\",\"Jelena Jankovic\",\"Angelique Kerber\",\"Caroline Wozniacki\",\"Carla Suarez Navarro\",\"Venus Williams\",\"Victoria Azarenka\",\"Coco Vandeweghe\",\"Kate Makarova\",\"Alize Cornet\",\"Eugenie Bouchard\",\"Timea Bacsinszky\",\"Elina Svitolina\",\"Shuai Zhang\",\"Sara Errani\",\"Petra Cetkovska\",\"Yanina Wickmayer\",\"Garbine Muguruza\",\"Andrea Petkovic\",\"Sabine Lisicki\",\"Lucie Safarova\",\"Barbora Strycova\",\"Belinda Bencic\",\"Shuai Peng\",\"Anastasia Pavlyuchenkova\",\"Aleksandra Wozniak\",\"Camila Giorgi\",\"Alisa Kleybanova\",\"Casey Dellacqua\",\"Kirsten Flipkens\",\"Varvara Lepchenko\",\"Shelby Rogers\",\"Heather Watson\",\"Alison Riske Amritraj\",\"Karolina Pliskova\",\"Christina Mchale\",\"Francesca Schiavone\",\"Klara Koukalova\",\"Annika Beck\",\"Monica Niculescu\",\"Jana Cepelova\",\"Pauline Parmentier\",\"Ajla Tomljanovic\",\"Kiki Bertens\",\"Zarina Diyas\",\"Yaroslava Shvedova\",\"Tereza Smitkova\",\"Kaia Kanepi\",\"Aleksandra Krunic\",\"Mirjana Lucic\"]\n",
    "# fields to extract\n",
    "f_fields = [\"name\",\"grass_pts_served\",\"grass_service_pts_won\",\"grass_pts_received\",\"grass_receiving_pts_won\",\"grass_aces\",\n",
    "           \"hard_pts_served\",\"hard_service_pts_won\",\"hard_pts_received\",\"hard_receiving_pts_won\",\"hard_aces\",\n",
    "           \"clay_pts_served\",\"clay_service_pts_won\",\"clay_pts_received\",\"clay_receiving_pts_won\",\"clay_aces\"]"
   ]
  },
  {
   "cell_type": "code",
   "execution_count": 2,
   "metadata": {},
   "outputs": [],
   "source": [
    "# make dictionary of dictionaries\n",
    "# keys of 1st dict will be player name\n",
    "# keys of 2nd dict will be name, grass_pts_served, grass_service_pts_won, grass_pts_received, \n",
    "#   grass_receiving_pts_won, grass_aces, and then same convention for hard and clay for a total of 16 keys\n",
    "ovr_dict = {}\n",
    "for player in players:\n",
    "    player_dict = {}\n",
    "    for field in f_fields:\n",
    "        player_dict[field] = 0\n",
    "    player_dict['name'] = player\n",
    "    ovr_dict[player] = player_dict"
   ]
  },
  {
   "cell_type": "markdown",
   "metadata": {},
   "source": [
    "### Extraction"
   ]
  },
  {
   "cell_type": "code",
   "execution_count": 3,
   "metadata": {},
   "outputs": [],
   "source": [
    "import os\n",
    "import csv"
   ]
  },
  {
   "cell_type": "code",
   "execution_count": 4,
   "metadata": {},
   "outputs": [],
   "source": [
    "# get paths\n",
    "path = os.getcwd()\n",
    "matches_path = path[:-4]+\"Data Lake\\\\Matches\"\n",
    "players_path = path[:-4]+\"Data Lake\\\\Players\""
   ]
  },
  {
   "cell_type": "code",
   "execution_count": 5,
   "metadata": {},
   "outputs": [],
   "source": [
    "def update_w_stats(match, fields, name, ovr_dict):\n",
    "    \"\"\"\n",
    "    helper function for extract_stats below\n",
    "    extract stats when name is the winner of the match\n",
    "    \"\"\"\n",
    "    \n",
    "    # indexes of fields needed for statistics\n",
    "    surface = fields.index(\"surface\")\n",
    "    w_ace = fields.index(\"w_ace\")\n",
    "    w_svpt = fields.index(\"w_svpt\")\n",
    "    w_1stWon = fields.index(\"w_1stWon\")\n",
    "    w_2ndWon = fields.index(\"w_2ndWon\")\n",
    "    l_ace = fields.index(\"l_ace\")\n",
    "    l_svpt = fields.index(\"l_svpt\")\n",
    "    l_1stWon = fields.index(\"l_1stWon\")\n",
    "    l_2ndWon = fields.index(\"l_2ndWon\")\n",
    "    \n",
    "    def my_int(val):\n",
    "        \"\"\"\n",
    "        some of these entries will be missing, so if an empty string is encountered,\n",
    "        want it just to be 0\n",
    "        \"\"\"\n",
    "        try:\n",
    "            return(int(val))\n",
    "        except ValueError:\n",
    "            return(0)\n",
    "    \n",
    "    # update according to surface\n",
    "    if match[surface] == \"Grass\":\n",
    "        ovr_dict[name][\"grass_pts_served\"] += my_int(match[w_svpt])\n",
    "        ovr_dict[name][\"grass_service_pts_won\"] += my_int(match[w_1stWon]) + my_int(match[w_2ndWon])\n",
    "        ovr_dict[name][\"grass_pts_received\"] += my_int(match[l_svpt])\n",
    "        ovr_dict[name][\"grass_receiving_pts_won\"] += my_int(match[l_svpt]) - my_int(match[l_1stWon]) - my_int(match[l_2ndWon])\n",
    "        ovr_dict[name][\"grass_aces\"] += my_int(match[w_ace])\n",
    "    elif match[surface] == \"Hard\":\n",
    "        ovr_dict[name][\"hard_pts_served\"] += my_int(match[w_svpt])\n",
    "        ovr_dict[name][\"hard_service_pts_won\"] += my_int(match[w_1stWon]) + my_int(match[w_2ndWon])\n",
    "        ovr_dict[name][\"hard_pts_received\"] += my_int(match[l_svpt])\n",
    "        ovr_dict[name][\"hard_receiving_pts_won\"] += my_int(match[l_svpt]) - my_int(match[l_1stWon]) - my_int(match[l_2ndWon])\n",
    "        ovr_dict[name][\"hard_aces\"] += my_int(match[w_ace])\n",
    "    elif match[surface] == \"Clay\":\n",
    "        ovr_dict[name][\"clay_pts_served\"] += my_int(match[w_svpt])\n",
    "        ovr_dict[name][\"clay_service_pts_won\"] += my_int(match[w_1stWon]) + my_int(match[w_2ndWon])\n",
    "        ovr_dict[name][\"clay_pts_received\"] += my_int(match[l_svpt])\n",
    "        ovr_dict[name][\"clay_receiving_pts_won\"] += my_int(match[l_svpt]) - my_int(match[l_1stWon]) - my_int(match[l_2ndWon])\n",
    "        ovr_dict[name][\"clay_aces\"] += my_int(match[w_ace])\n",
    "\n",
    "        \n",
    "def update_l_stats(match, fields, name, ovr_dict):\n",
    "    \"\"\"\n",
    "    helper function for extract_stats below\n",
    "    extract stats when name is the loser of the match\n",
    "    \"\"\"\n",
    "    \n",
    "    # indexes of fields needed for statistics\n",
    "    surface = fields.index(\"surface\")\n",
    "    w_ace = fields.index(\"w_ace\")\n",
    "    w_svpt = fields.index(\"w_svpt\")\n",
    "    w_1stWon = fields.index(\"w_1stWon\")\n",
    "    w_2ndWon = fields.index(\"w_2ndWon\")\n",
    "    l_ace = fields.index(\"l_ace\")\n",
    "    l_svpt = fields.index(\"l_svpt\")\n",
    "    l_1stWon = fields.index(\"l_1stWon\")\n",
    "    l_2ndWon = fields.index(\"l_2ndWon\")\n",
    "    \n",
    "    def my_int(val):\n",
    "        \"\"\"\n",
    "        some of these entries will be missing, so if an empty string is encountered,\n",
    "        want it just to be 0\n",
    "        \"\"\"\n",
    "        try:\n",
    "            return(int(val))\n",
    "        except ValueError:\n",
    "            return(0)\n",
    "    \n",
    "    # update according to surface\n",
    "    if match[surface] == \"Grass\":\n",
    "        ovr_dict[name][\"grass_pts_served\"] += my_int(match[l_svpt])\n",
    "        ovr_dict[name][\"grass_service_pts_won\"] += my_int(match[l_1stWon]) + my_int(match[l_2ndWon])\n",
    "        ovr_dict[name][\"grass_pts_received\"] += my_int(match[w_svpt])\n",
    "        ovr_dict[name][\"grass_receiving_pts_won\"] += my_int(match[w_svpt]) - my_int(match[w_1stWon]) - my_int(match[w_2ndWon])\n",
    "        ovr_dict[name][\"grass_aces\"] += my_int(match[l_ace])\n",
    "    elif match[surface] == \"Hard\":\n",
    "        ovr_dict[name][\"hard_pts_served\"] += my_int(match[l_svpt])\n",
    "        ovr_dict[name][\"hard_service_pts_won\"] += my_int(match[l_1stWon]) + my_int(match[l_2ndWon])\n",
    "        ovr_dict[name][\"hard_pts_received\"] += my_int(match[w_svpt])\n",
    "        ovr_dict[name][\"hard_receiving_pts_won\"] += my_int(match[w_svpt]) - my_int(match[w_1stWon]) - my_int(match[w_2ndWon])\n",
    "        ovr_dict[name][\"hard_aces\"] += my_int(match[l_ace])\n",
    "    elif match[surface] == \"Clay\":\n",
    "        ovr_dict[name][\"clay_pts_served\"] += my_int(match[l_svpt])\n",
    "        ovr_dict[name][\"clay_service_pts_won\"] += my_int(match[l_1stWon]) + my_int(match[l_2ndWon])\n",
    "        ovr_dict[name][\"clay_pts_received\"] += my_int(match[w_svpt])\n",
    "        ovr_dict[name][\"clay_receiving_pts_won\"] += my_int(match[w_svpt]) - my_int(match[w_1stWon]) - my_int(match[w_2ndWon])\n",
    "        ovr_dict[name][\"clay_aces\"] += my_int(match[l_ace])"
   ]
  },
  {
   "cell_type": "code",
   "execution_count": 6,
   "metadata": {},
   "outputs": [],
   "source": [
    "def extract_stats(file, ovr_dict):\n",
    "    \"\"\"\n",
    "    function for getting info from 1 csv file\n",
    "    file: string name of csv file\n",
    "    ovr_dict: the ovr_dict initialized above\n",
    "    \"\"\"\n",
    "    \n",
    "    with open(file, 'r') as f:\n",
    "        csvreader = csv.reader(f)\n",
    "        fields = next(csvreader) # get&burn first row which are the fields\n",
    "        # for now only need names\n",
    "        winner_name = fields.index(\"winner_name\")\n",
    "        loser_name = fields.index(\"loser_name\")\n",
    "        \n",
    "        for match in csvreader:\n",
    "            # determine player match pertains to\n",
    "            if match[winner_name] in ovr_dict.keys():\n",
    "                update_w_stats(match,fields,match[winner_name],ovr_dict)\n",
    "            if match[loser_name] in ovr_dict.keys():\n",
    "                update_l_stats(match,fields,match[loser_name],ovr_dict)"
   ]
  },
  {
   "cell_type": "code",
   "execution_count": 7,
   "metadata": {},
   "outputs": [],
   "source": [
    "# extract stats into ovr_dict\n",
    "for file in f_name:\n",
    "    f_path = matches_path+\"\\\\\"+file\n",
    "    extract_stats(f_path, ovr_dict)\n",
    "    \n",
    "# write ovr_dict into a single csv for R analysis\n",
    "r_path = players_path+\"\\\\\"+r_name\n",
    "with open(r_path, 'w', newline=\"\") as csvfile:\n",
    "    writer = csv.DictWriter(csvfile, fieldnames=f_fields)\n",
    "    writer.writeheader()\n",
    "    writer.writerows(list(ovr_dict.values()))    "
   ]
  }
 ],
 "metadata": {
  "kernelspec": {
   "display_name": "Python 3",
   "language": "python",
   "name": "python3"
  },
  "language_info": {
   "codemirror_mode": {
    "name": "ipython",
    "version": 3
   },
   "file_extension": ".py",
   "mimetype": "text/x-python",
   "name": "python",
   "nbconvert_exporter": "python",
   "pygments_lexer": "ipython3",
   "version": "3.7.3"
  }
 },
 "nbformat": 4,
 "nbformat_minor": 2
}
