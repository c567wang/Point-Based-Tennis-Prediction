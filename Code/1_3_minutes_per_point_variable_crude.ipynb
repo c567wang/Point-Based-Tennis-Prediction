{
 "cells": [
  {
   "cell_type": "code",
   "execution_count": 13,
   "metadata": {},
   "outputs": [],
   "source": [
    "import os\n",
    "import csv"
   ]
  },
  {
   "cell_type": "code",
   "execution_count": 25,
   "metadata": {},
   "outputs": [],
   "source": [
    "total_minutes = 0\n",
    "total_points = 0\n",
    "tour = \"atp\"\n",
    "f_name = [tour+\"_matches_2011.csv\",tour+\"_matches_2012.csv\",tour+\"_matches_2013.csv\"]\n",
    "# get paths\n",
    "path = os.getcwd()\n",
    "matches_path = path[:-4]+\"New Data\\\\\"+tour+\"\\\\raw\"\n",
    "results_path = path[:-4]+\"New Data\\\\\"+tour"
   ]
  },
  {
   "cell_type": "code",
   "execution_count": 26,
   "metadata": {},
   "outputs": [],
   "source": [
    "def break_times(match_score):\n",
    "    \"\"\"\n",
    "    given score string, get total break times, which we count as the \n",
    "    - changeover breaks, 1.5 minutes after every odd game apart from a set's first; and\n",
    "    - set breaks, 2 minutes between sets\n",
    "    no changeover breaks during tiebreaks\n",
    "    \"\"\"\n",
    "    \n",
    "    set_scores = match_score.split()\n",
    "    time = 2*(len(set_scores)-1)\n",
    "    for score in set_scores:\n",
    "        games = score.split(\"-\")\n",
    "        if not games[0].isdigit() or not games[1].isdigit():\n",
    "            time += 7.5 # set went to tiebreak, 5 changeover breaks\n",
    "            continue\n",
    "        time += 1.5*(int(games[0])+int(games[1])-2)//2\n",
    "    return time"
   ]
  },
  {
   "cell_type": "code",
   "execution_count": 27,
   "metadata": {},
   "outputs": [
    {
     "data": {
      "text/plain": [
       "25.0"
      ]
     },
     "execution_count": 27,
     "metadata": {},
     "output_type": "execute_result"
    }
   ],
   "source": [
    "test_score = \"7-6(5) 6-7(5) 6-4\"\n",
    "break_times(test_score) # should be 14x1.5+2x2=25 minutes"
   ]
  },
  {
   "cell_type": "code",
   "execution_count": 28,
   "metadata": {},
   "outputs": [
    {
     "data": {
      "text/plain": [
       "0.5753121363701876"
      ]
     },
     "execution_count": 28,
     "metadata": {},
     "output_type": "execute_result"
    }
   ],
   "source": [
    "for file in f_name:\n",
    "    f_path = matches_path+\"\\\\\"+file\n",
    "    with open(f_path, 'r') as f:\n",
    "        csvreader = csv.reader(f)\n",
    "        fields = next(csvreader) # get&burn first row which are the fields\n",
    "        minutes = fields.index(\"minutes\")\n",
    "        w_svpt = fields.index(\"w_svpt\")\n",
    "        l_svpt = fields.index(\"l_svpt\")\n",
    "        score = fields.index(\"score\")\n",
    "        for match in csvreader:\n",
    "            if match[minutes] and match[w_svpt] and match[l_svpt] and 'R' not in match[score]:\n",
    "                total_minutes += int(match[minutes])\n",
    "                total_minutes -= break_times(match[score])\n",
    "                total_points += int(match[w_svpt])\n",
    "                total_points += int(match[l_svpt])\n",
    "            \n",
    "total_minutes/total_points"
   ]
  },
  {
   "cell_type": "markdown",
   "metadata": {},
   "source": [
    "ATP 2011-2013: 0.5753121363701876\n",
    "\n",
    "ATP 2015-2017: 0.5586784508135149\n",
    "\n",
    "WTA 2015-2017: 0.581537649060811\n",
    "\n",
    "ATP 2019-2021: 0.6354581848475032\n",
    "\n",
    "WTA 2019-2021: 0.588497149403478"
   ]
  }
 ],
 "metadata": {
  "kernelspec": {
   "display_name": "Python 3",
   "language": "python",
   "name": "python3"
  },
  "language_info": {
   "codemirror_mode": {
    "name": "ipython",
    "version": 3
   },
   "file_extension": ".py",
   "mimetype": "text/x-python",
   "name": "python",
   "nbconvert_exporter": "python",
   "pygments_lexer": "ipython3",
   "version": "3.7.3"
  }
 },
 "nbformat": 4,
 "nbformat_minor": 2
}
